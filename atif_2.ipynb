{
  "nbformat": 4,
  "nbformat_minor": 0,
  "metadata": {
    "colab": {
      "provenance": [],
      "include_colab_link": true
    },
    "kernelspec": {
      "name": "python3",
      "display_name": "Python 3"
    },
    "language_info": {
      "name": "python"
    }
  },
  "cells": [
    {
      "cell_type": "markdown",
      "metadata": {
        "id": "view-in-github",
        "colab_type": "text"
      },
      "source": [
        "<a href=\"https://colab.research.google.com/github/leviii008/CMP7239/blob/main/atif_2.ipynb\" target=\"_parent\"><img src=\"https://colab.research.google.com/assets/colab-badge.svg\" alt=\"Open In Colab\"/></a>"
      ]
    },
    {
      "cell_type": "code",
      "execution_count": 3,
      "metadata": {
        "colab": {
          "base_uri": "https://localhost:8080/"
        },
        "id": "ctU1h41vSEEI",
        "outputId": "e72b6119-88b4-41e6-8c0b-209ca7b7aef5"
      },
      "outputs": [
        {
          "output_type": "stream",
          "name": "stdout",
          "text": [
            "\n",
            "=== Model Performance Metrics ===\n",
            "           Model  Accuracy  Precision    Recall  F1 Score   ROC AUC\n",
            "0    Naive Bayes  0.819696   0.700136  0.948529  0.805621  0.915675\n",
            "1  Random Forest  0.955829   0.958254  0.928309  0.943044  0.985931\n",
            "2            SVM  0.899348   0.910751  0.825368  0.865959  0.956431\n"
          ]
        },
        {
          "output_type": "execute_result",
          "data": {
            "text/plain": [
              "['/content/svm_model.joblib']"
            ]
          },
          "metadata": {},
          "execution_count": 3
        }
      ],
      "source": [
        "import pandas as pd\n",
        "import numpy as np\n",
        "import matplotlib.pyplot as plt\n",
        "import seaborn as sns\n",
        "from sklearn.preprocessing import MinMaxScaler\n",
        "from sklearn.model_selection import train_test_split, GridSearchCV, cross_val_score\n",
        "from sklearn.naive_bayes import GaussianNB\n",
        "from sklearn.ensemble import RandomForestClassifier\n",
        "from sklearn.svm import SVC\n",
        "from sklearn.metrics import classification_report, confusion_matrix, accuracy_score, precision_score, recall_score, f1_score, roc_auc_score, roc_curve\n",
        "import joblib\n",
        "import os\n",
        "\n",
        "# Load dataset\n",
        "file_path = \"/content/Spam Detection .csv\"\n",
        "df = pd.read_csv(file_path)\n",
        "\n",
        "# Rename label column\n",
        "df.rename(columns={df.columns[-1]: 'label'}, inplace=True)\n",
        "\n",
        "# Normalize features\n",
        "scaler = MinMaxScaler()\n",
        "features = df.drop('label', axis=1)\n",
        "features_scaled = scaler.fit_transform(features)\n",
        "X = pd.DataFrame(features_scaled, columns=features.columns)\n",
        "y = df['label']\n",
        "\n",
        "# Split data\n",
        "X_train, X_test, y_train, y_test = train_test_split(X, y, test_size=0.3, stratify=y, random_state=42)\n",
        "\n",
        "# Initialize models\n",
        "nb_model = GaussianNB()\n",
        "rf_model = RandomForestClassifier(n_estimators=100, random_state=42)\n",
        "svm_model = SVC(kernel='linear', probability=True)\n",
        "\n",
        "# Train models\n",
        "nb_model.fit(X_train, y_train)\n",
        "rf_model.fit(X_train, y_train)\n",
        "svm_model.fit(X_train, y_train)\n",
        "\n",
        "# Predict\n",
        "y_pred_nb = nb_model.predict(X_test)\n",
        "y_pred_rf = rf_model.predict(X_test)\n",
        "y_pred_svm = svm_model.predict(X_test)\n",
        "\n",
        "# Evaluate\n",
        "metrics = {\n",
        "    \"Model\": [\"Naive Bayes\", \"Random Forest\", \"SVM\"],\n",
        "    \"Accuracy\": [\n",
        "        accuracy_score(y_test, y_pred_nb),\n",
        "        accuracy_score(y_test, y_pred_rf),\n",
        "        accuracy_score(y_test, y_pred_svm),\n",
        "    ],\n",
        "    \"Precision\": [\n",
        "        precision_score(y_test, y_pred_nb),\n",
        "        precision_score(y_test, y_pred_rf),\n",
        "        precision_score(y_test, y_pred_svm),\n",
        "    ],\n",
        "    \"Recall\": [\n",
        "        recall_score(y_test, y_pred_nb),\n",
        "        recall_score(y_test, y_pred_rf),\n",
        "        recall_score(y_test, y_pred_svm),\n",
        "    ],\n",
        "    \"F1 Score\": [\n",
        "        f1_score(y_test, y_pred_nb),\n",
        "        f1_score(y_test, y_pred_rf),\n",
        "        f1_score(y_test, y_pred_svm),\n",
        "    ],\n",
        "    \"ROC AUC\": [\n",
        "        roc_auc_score(y_test, nb_model.predict_proba(X_test)[:, 1]),\n",
        "        roc_auc_score(y_test, rf_model.predict_proba(X_test)[:, 1]),\n",
        "        roc_auc_score(y_test, svm_model.predict_proba(X_test)[:, 1]),\n",
        "    ]\n",
        "}\n",
        "\n",
        "# Display results\n",
        "metrics_df = pd.DataFrame(metrics)\n",
        "print(\"\\n=== Model Performance Metrics ===\")\n",
        "print(metrics_df)\n",
        "\n",
        "# Save model files\n",
        "model_dir = \"/content/\"\n",
        "os.makedirs(model_dir, exist_ok=True)\n",
        "joblib.dump(nb_model, os.path.join(model_dir, \"naive_bayes_model.joblib\"))\n",
        "joblib.dump(rf_model, os.path.join(model_dir, \"random_forest_model.joblib\"))\n",
        "joblib.dump(svm_model, os.path.join(model_dir, \"svm_model.joblib\"))\n"
      ]
    },
    {
      "cell_type": "code",
      "source": [
        "from google.colab import drive\n",
        "drive.mount('/content/drive')"
      ],
      "metadata": {
        "colab": {
          "base_uri": "https://localhost:8080/"
        },
        "id": "4BQ5Tg_XSg1L",
        "outputId": "29420c69-070e-419d-c077-0f0a77fe62c7"
      },
      "execution_count": 2,
      "outputs": [
        {
          "output_type": "stream",
          "name": "stdout",
          "text": [
            "Mounted at /content/drive\n"
          ]
        }
      ]
    }
  ]
}